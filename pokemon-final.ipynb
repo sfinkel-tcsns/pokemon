{
 "cells": [
  {
   "cell_type": "code",
   "execution_count": 1073,
   "metadata": {},
   "outputs": [],
   "source": [
    "class pokemon():\n",
    "    def __init__(self,poke_type,damage,health,evolve1,evolve2,name,name2,name3,level):\n",
    "        self.poke_type = poke_type\n",
    "        self.damage = damage\n",
    "        self.health = health\n",
    "        self.evolve1 = evolve1\n",
    "        self.evolve2 = evolve2\n",
    "        self.name = name\n",
    "        self.name2 = name2\n",
    "        self.name3 = name3\n",
    "        self.level = level\n",
    "        \n",
    "        if self.level == evolve1:\n",
    "            print(\"is evolving\")\n",
    "                \n",
    "        \n",
    "    "
   ]
  },
  {
   "cell_type": "code",
   "execution_count": 1074,
   "metadata": {},
   "outputs": [],
   "source": [
    "from IPython.display import Image\n",
    "from IPython.display import display"
   ]
  },
  {
   "cell_type": "code",
   "execution_count": 1075,
   "metadata": {},
   "outputs": [],
   "source": [
    "if \"jimmy is evolving\" == True:\n",
    "    x = Image(url='https://fanaru.com/pokemon-anime/image/130028-pokemon-anime-pikachu-to-raichu.gif')"
   ]
  },
  {
   "cell_type": "code",
   "execution_count": null,
   "metadata": {},
   "outputs": [],
   "source": []
  },
  {
   "cell_type": "code",
   "execution_count": 1216,
   "metadata": {},
   "outputs": [],
   "source": [
    "class trainer():\n",
    "    def __init__(self,pokemon1,pokemon2):\n",
    "        self.pokemon1 = pokemon1\n",
    "        self.pokemon2 = pokemon2\n",
    "        x = pokemon1.name\n",
    "    def attack(self,target,move):\n",
    "            \n",
    "            ######## sets the variables for pokemon1 or pokemon2 and what image to show based on move ##############\n",
    "            while-True:\n",
    "                \n",
    "                if self.pokemon1.health <= 0:\n",
    "                    y = self.pokemon2\n",
    "                else:\n",
    "                    y = self.pokemon1\n",
    "                   \n",
    "                if target.pokemon1.health <= 0:\n",
    "                    z = target.pokemon2\n",
    "                else:\n",
    "                    z = target.pokemon1\n",
    "                print(str(y.name) + \" used \" + str(move.move_name))\n",
    "                if move==bite:\n",
    "                    b = Image(url='https://media.giphy.com/media/LxSFsOTa3ytEY/giphy.gif')\n",
    "                    \n",
    "                elif move==thunderbolt:\n",
    "                    b = Image(url='https://media.giphy.com/media/14duI6o1KQF8qs/giphy.gif')\n",
    "                 \n",
    "                break\n",
    "            ########## pokemon 1 synergies ###############\n",
    "            if z == target.pokemon1:\n",
    "                \n",
    "                if move.move_type ==\"electric\" and z.poke_type == \"electric\":\n",
    "                    z.health -= y.damage\n",
    "                if move.move_type ==\"morkey\" and z.poke_type == \"morkey\":\n",
    "                    z.health -= y.damage * 2\n",
    "                \n",
    "                    print(\"It was super effective\")\n",
    "           \n",
    "                if move.move_type ==\"electric\" and z.poke_type == \"morkey\":\n",
    "                    z.health -= (y.damage /  2)\n",
    "                \n",
    "                    print(\"It wasn't very  effective\")\n",
    "                if move.move_type ==\"morkey\" and z.poke_type ==\"electric\":\n",
    "                    z.health -= y.damage\n",
    "            elif z ==target.pokemon2:    \n",
    "                if move.move_type ==\"electric\" and z.poke_type == \"electric\":\n",
    "                    z.health -= y.damage\n",
    "                \n",
    "                \n",
    "                if move.move_type ==\"morkey\" and z.poke_type == \"morkey\":\n",
    "                    z.health -= y.damage * 2\n",
    "                \n",
    "                    print(\"It was super effective\")\n",
    "           \n",
    "                if move.move_type ==\"electric\" and z.poke_type == \"morkey\":\n",
    "                    z.health -= (y.damage /  2)\n",
    "                \n",
    "                    print(\"It wasn't very  effective\")\n",
    "                if move.move_type ==\"morkey\" and z.poke_type ==\"electric\":\n",
    "                    z.health -= y.damage\n",
    "                ######### what happens if target health is zero #########\n",
    "            if z.health <= 0:\n",
    "                display (b,c)\n",
    "                print(str(z.name) + \" has fainted\")\n",
    "                \n",
    "                y.level += 1\n",
    "                ############ what happens if hits evolve level? #############\n",
    "                if y.level == y.evolve1:\n",
    "                    display(x)\n",
    "                    print(str(y.name) + \" is evolving!\")\n",
    "                    y.name = y.name2\n",
    "                     \n",
    "                    \n",
    "                   ####### how about evolve level 2? ################\n",
    "               \n",
    "                elif y.level == y.evolve2:\n",
    "                    print(str(y.name) + \" is evolving!\")\n",
    "                    y.name= y.name3    \n",
    "                \n",
    "                \n",
    "          \n",
    "                        \n",
    "                    ####### if target not fainted ####\n",
    "            elif z.health >= 1:\n",
    "                print(str(z.name) + \" has this much life remaining: \" + str(z.health))\n",
    "                return b\n",
    "                \n",
    "                    #### if target fainted #####\n",
    "            else:\n",
    "                print(str(z.name) + \" has fainted!\")\n",
    "                display (b,c)\n",
    "            if z == target.pokemon2 and z.health <= 0:\n",
    "                    print(\"fight over\")\n",
    "                 \n",
    "            \n",
    "            "
   ]
  },
  {
   "cell_type": "code",
   "execution_count": 1217,
   "metadata": {},
   "outputs": [],
   "source": [
    "class move():\n",
    "    def __init__(self,move_name,move_type):\n",
    "        self.move_name = move_name\n",
    "        self.move_type = move_type"
   ]
  },
  {
   "cell_type": "code",
   "execution_count": 1218,
   "metadata": {},
   "outputs": [],
   "source": [
    "c = Image(url='https://media.giphy.com/media/yuI7fL5cR1YeA/giphy.gif')"
   ]
  },
  {
   "cell_type": "code",
   "execution_count": 1219,
   "metadata": {},
   "outputs": [],
   "source": [
    "thunderbolt = move(\"thunderbolt\", \"electric\")"
   ]
  },
  {
   "cell_type": "code",
   "execution_count": 1220,
   "metadata": {},
   "outputs": [],
   "source": [
    "bite = move(\"bite\", \"morkey\")"
   ]
  },
  {
   "cell_type": "code",
   "execution_count": 1221,
   "metadata": {},
   "outputs": [],
   "source": [
    "einy = pokemon(\"morkey\",100,150,15,30,\"einy\",\"donny\", \"hotma\", 14)"
   ]
  },
  {
   "cell_type": "code",
   "execution_count": 1222,
   "metadata": {},
   "outputs": [],
   "source": [
    "jimmy = pokemon(\"morkey\", 70, 120,12,24,\"jimmy\",\"connor\",\"conny\",11  )"
   ]
  },
  {
   "cell_type": "code",
   "execution_count": 1223,
   "metadata": {},
   "outputs": [],
   "source": [
    "pikachu = pokemon(\"electric\", 80, 100, 24,100,\"pikachu\",\"raichu\", \"raichu\", 20)"
   ]
  },
  {
   "cell_type": "code",
   "execution_count": 1224,
   "metadata": {},
   "outputs": [],
   "source": [
    "zapdos = pokemon(\"electric\", 70, 120,12,24,\"zapdos\", \"zapdos\", \"zapdos\", 99)"
   ]
  },
  {
   "cell_type": "code",
   "execution_count": 1225,
   "metadata": {},
   "outputs": [],
   "source": [
    "will = trainer(jimmy, zapdos)"
   ]
  },
  {
   "cell_type": "code",
   "execution_count": 1226,
   "metadata": {},
   "outputs": [],
   "source": [
    "aziza = trainer(einy,pikachu)"
   ]
  },
  {
   "cell_type": "code",
   "execution_count": 1227,
   "metadata": {},
   "outputs": [
    {
     "name": "stdout",
     "output_type": "stream",
     "text": [
      "jimmy used thunderbolt\n",
      "It wasn't very  effective\n",
      "einy has this much life remaining: 115.0\n"
     ]
    },
    {
     "data": {
      "text/html": [
       "<img src=\"https://media.giphy.com/media/14duI6o1KQF8qs/giphy.gif\"/>"
      ],
      "text/plain": [
       "<IPython.core.display.Image object>"
      ]
     },
     "execution_count": 1227,
     "metadata": {},
     "output_type": "execute_result"
    }
   ],
   "source": [
    "will.attack(aziza, thunderbolt)"
   ]
  },
  {
   "cell_type": "code",
   "execution_count": 1231,
   "metadata": {},
   "outputs": [
    {
     "name": "stdout",
     "output_type": "stream",
     "text": [
      "donny used bite\n"
     ]
    },
    {
     "data": {
      "text/html": [
       "<img src=\"https://media.giphy.com/media/LxSFsOTa3ytEY/giphy.gif\"/>"
      ],
      "text/plain": [
       "<IPython.core.display.Image object>"
      ]
     },
     "metadata": {},
     "output_type": "display_data"
    },
    {
     "data": {
      "text/html": [
       "<img src=\"https://media.giphy.com/media/yuI7fL5cR1YeA/giphy.gif\"/>"
      ],
      "text/plain": [
       "<IPython.core.display.Image object>"
      ]
     },
     "metadata": {},
     "output_type": "display_data"
    },
    {
     "name": "stdout",
     "output_type": "stream",
     "text": [
      "zapdos has fainted\n",
      "fight over\n"
     ]
    }
   ],
   "source": [
    "aziza.attack(will,bite)"
   ]
  },
  {
   "cell_type": "code",
   "execution_count": 1229,
   "metadata": {},
   "outputs": [
    {
     "data": {
      "text/plain": [
       "120"
      ]
     },
     "execution_count": 1229,
     "metadata": {},
     "output_type": "execute_result"
    }
   ],
   "source": [
    "zapdos.health"
   ]
  },
  {
   "cell_type": "code",
   "execution_count": null,
   "metadata": {},
   "outputs": [],
   "source": [
    "list1 = [str(a1),str(a2)]"
   ]
  },
  {
   "cell_type": "code",
   "execution_count": null,
   "metadata": {},
   "outputs": [],
   "source": [
    "import random"
   ]
  },
  {
   "cell_type": "code",
   "execution_count": null,
   "metadata": {},
   "outputs": [],
   "source": [
    "random.choice(list1)"
   ]
  },
  {
   "cell_type": "raw",
   "metadata": {
    "scrolled": true
   },
   "source": []
  },
  {
   "cell_type": "code",
   "execution_count": 1,
   "metadata": {},
   "outputs": [
    {
     "data": {
      "text/html": [
       "<img src=\"https://fanaru.com/pokemon-anime/image/130028-pokemon-anime-pikachu-to-raichu.gif\"/>"
      ],
      "text/plain": [
       "<IPython.core.display.Image object>"
      ]
     },
     "metadata": {},
     "output_type": "display_data"
    },
    {
     "data": {
      "text/html": [
       "<img src=\"https://66.media.tumblr.com/tumblr_lp2dprEjuL1qc2jhfo5_r1_250.gif\"/>"
      ],
      "text/plain": [
       "<IPython.core.display.Image object>"
      ]
     },
     "metadata": {},
     "output_type": "display_data"
    }
   ],
   "source": [
    "from IPython.display import Image\n",
    "from IPython.display import display\n",
    "x = Image(url='https://fanaru.com/pokemon-anime/image/130028-pokemon-anime-pikachu-to-raichu.gif') \n",
    "y = Image(url='https://66.media.tumblr.com/tumblr_lp2dprEjuL1qc2jhfo5_r1_250.gif') \n",
    "display(x, y)"
   ]
  },
  {
   "cell_type": "code",
   "execution_count": null,
   "metadata": {
    "scrolled": true
   },
   "outputs": [],
   "source": []
  },
  {
   "cell_type": "code",
   "execution_count": null,
   "metadata": {},
   "outputs": [],
   "source": []
  },
  {
   "cell_type": "code",
   "execution_count": null,
   "metadata": {},
   "outputs": [],
   "source": []
  },
  {
   "cell_type": "code",
   "execution_count": null,
   "metadata": {},
   "outputs": [],
   "source": []
  },
  {
   "cell_type": "code",
   "execution_count": null,
   "metadata": {},
   "outputs": [],
   "source": [
    "from IPython.display import Image\n",
    "from IPython.core.display import HTML \n",
    "Image(url= \"https://66.media.tumblr.com/tumblr_lp2dprEjuL1qc2jhfo5_r1_250.gif\""
   ]
  },
  {
   "cell_type": "code",
   "execution_count": null,
   "metadata": {},
   "outputs": [],
   "source": [
    "a = Image(url = \"https://fanaru.com/pokemon-anime/image/130028-pokemon-anime-pikachu-to-raichu.gif\")\n"
   ]
  },
  {
   "cell_type": "code",
   "execution_count": null,
   "metadata": {},
   "outputs": [],
   "source": [
    "a"
   ]
  },
  {
   "cell_type": "code",
   "execution_count": null,
   "metadata": {},
   "outputs": [],
   "source": []
  },
  {
   "cell_type": "code",
   "execution_count": null,
   "metadata": {},
   "outputs": [],
   "source": []
  },
  {
   "cell_type": "code",
   "execution_count": null,
   "metadata": {},
   "outputs": [],
   "source": []
  },
  {
   "cell_type": "code",
   "execution_count": null,
   "metadata": {},
   "outputs": [],
   "source": []
  },
  {
   "cell_type": "code",
   "execution_count": null,
   "metadata": {},
   "outputs": [],
   "source": []
  },
  {
   "cell_type": "code",
   "execution_count": null,
   "metadata": {},
   "outputs": [],
   "source": []
  },
  {
   "cell_type": "code",
   "execution_count": null,
   "metadata": {},
   "outputs": [],
   "source": []
  },
  {
   "cell_type": "code",
   "execution_count": null,
   "metadata": {},
   "outputs": [],
   "source": []
  },
  {
   "cell_type": "code",
   "execution_count": null,
   "metadata": {},
   "outputs": [],
   "source": []
  },
  {
   "cell_type": "code",
   "execution_count": null,
   "metadata": {},
   "outputs": [],
   "source": []
  },
  {
   "cell_type": "code",
   "execution_count": null,
   "metadata": {},
   "outputs": [],
   "source": []
  },
  {
   "cell_type": "code",
   "execution_count": null,
   "metadata": {},
   "outputs": [],
   "source": []
  },
  {
   "cell_type": "code",
   "execution_count": null,
   "metadata": {},
   "outputs": [],
   "source": []
  },
  {
   "cell_type": "code",
   "execution_count": null,
   "metadata": {},
   "outputs": [],
   "source": []
  },
  {
   "cell_type": "code",
   "execution_count": null,
   "metadata": {},
   "outputs": [],
   "source": []
  },
  {
   "cell_type": "code",
   "execution_count": null,
   "metadata": {},
   "outputs": [],
   "source": []
  },
  {
   "cell_type": "code",
   "execution_count": null,
   "metadata": {},
   "outputs": [],
   "source": []
  }
 ],
 "metadata": {
  "kernelspec": {
   "display_name": "Python 3",
   "language": "python",
   "name": "python3"
  },
  "language_info": {
   "codemirror_mode": {
    "name": "ipython",
    "version": 3
   },
   "file_extension": ".py",
   "mimetype": "text/x-python",
   "name": "python",
   "nbconvert_exporter": "python",
   "pygments_lexer": "ipython3",
   "version": "3.6.5"
  }
 },
 "nbformat": 4,
 "nbformat_minor": 2
}
